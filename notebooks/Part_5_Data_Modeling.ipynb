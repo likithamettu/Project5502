{
  "nbformat": 4,
  "nbformat_minor": 0,
  "metadata": {
    "colab": {
      "provenance": []
    },
    "kernelspec": {
      "name": "python3",
      "display_name": "Python 3"
    },
    "language_info": {
      "name": "python"
    }
  },
  "cells": [
    {
      "cell_type": "markdown",
      "source": [
        "# Part 5 - Data Modeling"
      ],
      "metadata": {
        "id": "lJQ7-Uvaj-eB"
      }
    },
    {
      "cell_type": "markdown",
      "source": [
        "## Get Data"
      ],
      "metadata": {
        "id": "mwrKAvxG5htS"
      }
    },
    {
      "cell_type": "code",
      "source": [
        "# seed\n",
        "import random\n",
        "\n",
        "seed_id = 11784601\n",
        "random_state = random.seed(seed_id)\n",
        "random_state"
      ],
      "metadata": {
        "id": "a-m0xVOf5_JW"
      },
      "execution_count": null,
      "outputs": []
    },
    {
      "cell_type": "code",
      "source": [
        "import shutil\n",
        "\n",
        "# Source file path (within your Drive)\n",
        "source_file = '/content/drive/MyDrive/Colab Notebooks/train_test_split.pkl'\n",
        "\n",
        "# Destination path (root of your Drive)\n",
        "destination_path = 'train_test_split.pkl'\n",
        "\n",
        "# Copy the file\n",
        "shutil.copy(source_file, destination_path)"
      ],
      "metadata": {
        "id": "9D49mVdvCf6k",
        "colab": {
          "base_uri": "https://localhost:8080/",
          "height": 36
        },
        "outputId": "e05db8b2-3aeb-4c0a-ae39-6636b5194eca"
      },
      "execution_count": null,
      "outputs": [
        {
          "output_type": "execute_result",
          "data": {
            "text/plain": [
              "'train_test_split.pkl'"
            ],
            "application/vnd.google.colaboratory.intrinsic+json": {
              "type": "string"
            }
          },
          "metadata": {},
          "execution_count": 68
        }
      ]
    },
    {
      "cell_type": "code",
      "source": [
        "import pickle\n",
        "\n",
        "# Load the data\n",
        "with open('train_test_split.pkl', 'rb') as f:\n",
        "    X_train, X_test, y_train, y_test = pickle.load(f)"
      ],
      "metadata": {
        "id": "VzQgQwDe5j-c"
      },
      "execution_count": null,
      "outputs": []
    },
    {
      "cell_type": "markdown",
      "source": [
        "## Logistic Regression"
      ],
      "metadata": {
        "id": "JzLn_P9TsL8D"
      }
    },
    {
      "cell_type": "code",
      "source": [
        "# model, predict, evaluate, and plot\n",
        "from sklearn.linear_model import LogisticRegression\n",
        "from sklearn.metrics import confusion_matrix, accuracy_score\n",
        "\n",
        "model = LogisticRegression(solver='liblinear', random_state=random_state)\n",
        "model.fit(X_train, y_train)\n",
        "predictions = model.predict(X_test)\n",
        "\n",
        "print(confusion_matrix(y_test, predictions))\n",
        "print(accuracy_score(y_test, predictions))"
      ],
      "metadata": {
        "id": "4dtvvMWZsOVs",
        "colab": {
          "base_uri": "https://localhost:8080/"
        },
        "outputId": "148bdda2-91e9-4b5b-a880-1299a727c639"
      },
      "execution_count": null,
      "outputs": [
        {
          "output_type": "stream",
          "name": "stdout",
          "text": [
            "[[129  16]\n",
            " [ 27 128]]\n",
            "0.8566666666666667\n"
          ]
        }
      ]
    },
    {
      "cell_type": "markdown",
      "source": [
        "## Random Forest"
      ],
      "metadata": {
        "id": "vfP5Ltl4tbkz"
      }
    },
    {
      "cell_type": "code",
      "source": [
        "from sklearn.ensemble import RandomForestClassifier\n",
        "\n",
        "model = RandomForestClassifier(n_estimators=100, criterion='entropy', random_state=random_state)\n",
        "model.fit(X_train, y_train)\n",
        "predictions = model.predict(X_test)\n",
        "\n",
        "print(confusion_matrix(y_test, predictions))\n",
        "print(accuracy_score(y_test, predictions))"
      ],
      "metadata": {
        "id": "apRIPeEetesw",
        "colab": {
          "base_uri": "https://localhost:8080/"
        },
        "outputId": "3e31a8e0-35ad-42d8-e100-3f299b9d8a86"
      },
      "execution_count": null,
      "outputs": [
        {
          "output_type": "stream",
          "name": "stdout",
          "text": [
            "[[133  12]\n",
            " [ 29 126]]\n",
            "0.8633333333333333\n"
          ]
        }
      ]
    },
    {
      "cell_type": "markdown",
      "source": [
        "## Model Evaluation"
      ],
      "metadata": {
        "id": "P3s_9zNAkBvi"
      }
    },
    {
      "cell_type": "code",
      "source": [
        "from sklearn.metrics import accuracy_score, confusion_matrix, classification_report\n",
        "\n",
        "tn, fp, fn, tp = confusion_matrix(y_test, predictions).ravel()\n",
        "print('accuracy:', accuracy_score(predictions, y_test))\n",
        "print(confusion_matrix(y_test, predictions))\n",
        "print(classification_report(y_test, predictions))"
      ],
      "metadata": {
        "id": "u2_ZmOlSu3v_",
        "colab": {
          "base_uri": "https://localhost:8080/"
        },
        "outputId": "b1c89b14-7487-41a7-9ee8-1e4f300de3a9"
      },
      "execution_count": null,
      "outputs": [
        {
          "output_type": "stream",
          "name": "stdout",
          "text": [
            "accuracy: 0.8633333333333333\n",
            "[[133  12]\n",
            " [ 29 126]]\n",
            "              precision    recall  f1-score   support\n",
            "\n",
            "         0.0       0.82      0.92      0.87       145\n",
            "         1.0       0.91      0.81      0.86       155\n",
            "\n",
            "    accuracy                           0.86       300\n",
            "   macro avg       0.87      0.87      0.86       300\n",
            "weighted avg       0.87      0.86      0.86       300\n",
            "\n"
          ]
        }
      ]
    },
    {
      "cell_type": "markdown",
      "source": [
        "## Model Fine-Tuning"
      ],
      "metadata": {
        "id": "0z3ILWx2kEQW"
      }
    },
    {
      "cell_type": "code",
      "source": [
        "from sklearn.ensemble import RandomForestClassifier\n",
        "from sklearn.model_selection import GridSearchCV\n",
        "\n",
        "hyperparameters = {'max_depth': [2, 3],\n",
        "              'min_samples_split': [4, 5],\n",
        "              'min_samples_leaf': [4, 5],\n",
        "              'bootstrap': [True, False],\n",
        "              'criterion': ['entropy', 'gini']}\n",
        "\n",
        "grid_search = GridSearchCV(estimator = RandomForestClassifier(),\n",
        "                           param_grid = hyperparameters,\n",
        "                           scoring = 'accuracy',\n",
        "                           cv = 10)\n",
        "\n",
        "grid_search = grid_search.fit(X_train, y_train)\n",
        "\n",
        "best_accuracy = grid_search.best_score_\n",
        "best_parameters = grid_search.best_params_\n",
        "\n",
        "print('best accuracy', best_accuracy)\n",
        "print('best parameters', best_parameters)"
      ],
      "metadata": {
        "id": "id7SGg6wuOyR",
        "colab": {
          "base_uri": "https://localhost:8080/"
        },
        "outputId": "4835bdd8-f1ea-4018-e3c8-781d6ea92536"
      },
      "execution_count": null,
      "outputs": [
        {
          "output_type": "stream",
          "name": "stdout",
          "text": [
            "best accuracy 0.8757142857142858\n",
            "best parameters {'bootstrap': True, 'criterion': 'gini', 'max_depth': 3, 'min_samples_leaf': 5, 'min_samples_split': 5}\n"
          ]
        }
      ]
    },
    {
      "cell_type": "markdown",
      "source": [
        "## Final Model"
      ],
      "metadata": {
        "id": "VssRecfXvNDu"
      }
    },
    {
      "cell_type": "code",
      "source": [
        "from sklearn.ensemble import RandomForestClassifier\n",
        "from sklearn.metrics import accuracy_score, confusion_matrix, classification_report\n",
        "\n",
        "model = RandomForestClassifier(random_state=random_state).set_params(**best_parameters) # * args, ** kwargs\n",
        "model.fit(X_train.values, y_train)\n",
        "predictions = model.predict(X_test.values)\n",
        "print('accuracy:', accuracy_score(predictions, y_test))"
      ],
      "metadata": {
        "id": "F65mh3dkvQTe",
        "colab": {
          "base_uri": "https://localhost:8080/"
        },
        "outputId": "e5d0381f-7bb7-4646-ee1b-cef31fe6b141"
      },
      "execution_count": null,
      "outputs": [
        {
          "output_type": "stream",
          "name": "stdout",
          "text": [
            "accuracy: 0.8566666666666667\n"
          ]
        }
      ]
    },
    {
      "cell_type": "markdown",
      "source": [
        "## Confusion Matrix"
      ],
      "metadata": {
        "id": "YMQq51GE5XJb"
      }
    },
    {
      "cell_type": "code",
      "source": [
        "print(confusion_matrix(y_test, predictions))"
      ],
      "metadata": {
        "id": "kUSZa-4N5cgu",
        "colab": {
          "base_uri": "https://localhost:8080/"
        },
        "outputId": "a8eed14e-5ff8-49dc-90f9-80e7cb04c166"
      },
      "execution_count": null,
      "outputs": [
        {
          "output_type": "stream",
          "name": "stdout",
          "text": [
            "[[132  13]\n",
            " [ 30 125]]\n"
          ]
        }
      ]
    },
    {
      "cell_type": "markdown",
      "source": [
        "## Precision Recall"
      ],
      "metadata": {
        "id": "uaRRL0lf5Zv0"
      }
    },
    {
      "cell_type": "code",
      "source": [
        "print(classification_report(y_test, predictions))"
      ],
      "metadata": {
        "id": "bqdrP2BE5dEE",
        "colab": {
          "base_uri": "https://localhost:8080/"
        },
        "outputId": "8796b23e-5546-4186-c6fb-f9c90d76820e"
      },
      "execution_count": null,
      "outputs": [
        {
          "output_type": "stream",
          "name": "stdout",
          "text": [
            "              precision    recall  f1-score   support\n",
            "\n",
            "         0.0       0.81      0.91      0.86       145\n",
            "         1.0       0.91      0.81      0.85       155\n",
            "\n",
            "    accuracy                           0.86       300\n",
            "   macro avg       0.86      0.86      0.86       300\n",
            "weighted avg       0.86      0.86      0.86       300\n",
            "\n"
          ]
        }
      ]
    },
    {
      "cell_type": "markdown",
      "source": [
        "## Bias Variance"
      ],
      "metadata": {
        "id": "Xa9kbxryvx4d"
      }
    },
    {
      "source": [
        "from mlxtend.evaluate import bias_variance_decomp\n",
        "\n",
        "avg_expected_loss, avg_bias, avg_var = bias_variance_decomp(\n",
        "    model,\n",
        "    X_train.values, # Convert X_train to NumPy array\n",
        "    y_train.values, # Convert y_train to NumPy array\n",
        "    X_test.values, # Convert X_test to NumPy array\n",
        "    y_test.values, # Convert y_test to NumPy array\n",
        "    loss='0-1_loss',\n",
        "    random_seed=random_state)\n",
        "\n",
        "print('Average expected loss: %.3f' % avg_expected_loss)\n",
        "print('Average bias: %.3f' % avg_bias)\n",
        "print('Average variance: %.3f' % avg_var)\n",
        "\n",
        "# Average expected loss: 0.087\n",
        "# Average bias: 0.080\n",
        "# Average variance: 0.034"
      ],
      "cell_type": "code",
      "metadata": {
        "id": "QXvTKg1egT9I",
        "colab": {
          "base_uri": "https://localhost:8080/"
        },
        "outputId": "314335a0-50f9-40f8-96a0-67a1aa078c7b"
      },
      "execution_count": null,
      "outputs": [
        {
          "output_type": "stream",
          "name": "stdout",
          "text": [
            "Average expected loss: 0.144\n",
            "Average bias: 0.143\n",
            "Average variance: 0.022\n"
          ]
        }
      ]
    },
    {
      "cell_type": "code",
      "source": [
        "X_test.head()"
      ],
      "metadata": {
        "id": "ZnhD92wSrDuB",
        "colab": {
          "base_uri": "https://localhost:8080/",
          "height": 206
        },
        "outputId": "2ae5ab83-2d1f-4ebe-866f-e127e9112242"
      },
      "execution_count": null,
      "outputs": [
        {
          "output_type": "execute_result",
          "data": {
            "text/plain": [
              "     watch_time  avg_view_duration  click_through_rate  interest\n",
              "296    1.772875           4.486225               0.185         0\n",
              "58    -1.126952          -1.943924               0.190         1\n",
              "621   -0.706117          -1.043079               0.243         1\n",
              "575   -0.279510          -0.219755               0.243         0\n",
              "85     0.875398           2.592563               0.188         0"
            ],
            "text/html": [
              "\n",
              "  <div id=\"df-277dedf1-00cf-4a66-80f6-67e6070db812\" class=\"colab-df-container\">\n",
              "    <div>\n",
              "<style scoped>\n",
              "    .dataframe tbody tr th:only-of-type {\n",
              "        vertical-align: middle;\n",
              "    }\n",
              "\n",
              "    .dataframe tbody tr th {\n",
              "        vertical-align: top;\n",
              "    }\n",
              "\n",
              "    .dataframe thead th {\n",
              "        text-align: right;\n",
              "    }\n",
              "</style>\n",
              "<table border=\"1\" class=\"dataframe\">\n",
              "  <thead>\n",
              "    <tr style=\"text-align: right;\">\n",
              "      <th></th>\n",
              "      <th>watch_time</th>\n",
              "      <th>avg_view_duration</th>\n",
              "      <th>click_through_rate</th>\n",
              "      <th>interest</th>\n",
              "    </tr>\n",
              "  </thead>\n",
              "  <tbody>\n",
              "    <tr>\n",
              "      <th>296</th>\n",
              "      <td>1.772875</td>\n",
              "      <td>4.486225</td>\n",
              "      <td>0.185</td>\n",
              "      <td>0</td>\n",
              "    </tr>\n",
              "    <tr>\n",
              "      <th>58</th>\n",
              "      <td>-1.126952</td>\n",
              "      <td>-1.943924</td>\n",
              "      <td>0.190</td>\n",
              "      <td>1</td>\n",
              "    </tr>\n",
              "    <tr>\n",
              "      <th>621</th>\n",
              "      <td>-0.706117</td>\n",
              "      <td>-1.043079</td>\n",
              "      <td>0.243</td>\n",
              "      <td>1</td>\n",
              "    </tr>\n",
              "    <tr>\n",
              "      <th>575</th>\n",
              "      <td>-0.279510</td>\n",
              "      <td>-0.219755</td>\n",
              "      <td>0.243</td>\n",
              "      <td>0</td>\n",
              "    </tr>\n",
              "    <tr>\n",
              "      <th>85</th>\n",
              "      <td>0.875398</td>\n",
              "      <td>2.592563</td>\n",
              "      <td>0.188</td>\n",
              "      <td>0</td>\n",
              "    </tr>\n",
              "  </tbody>\n",
              "</table>\n",
              "</div>\n",
              "    <div class=\"colab-df-buttons\">\n",
              "\n",
              "  <div class=\"colab-df-container\">\n",
              "    <button class=\"colab-df-convert\" onclick=\"convertToInteractive('df-277dedf1-00cf-4a66-80f6-67e6070db812')\"\n",
              "            title=\"Convert this dataframe to an interactive table.\"\n",
              "            style=\"display:none;\">\n",
              "\n",
              "  <svg xmlns=\"http://www.w3.org/2000/svg\" height=\"24px\" viewBox=\"0 -960 960 960\">\n",
              "    <path d=\"M120-120v-720h720v720H120Zm60-500h600v-160H180v160Zm220 220h160v-160H400v160Zm0 220h160v-160H400v160ZM180-400h160v-160H180v160Zm440 0h160v-160H620v160ZM180-180h160v-160H180v160Zm440 0h160v-160H620v160Z\"/>\n",
              "  </svg>\n",
              "    </button>\n",
              "\n",
              "  <style>\n",
              "    .colab-df-container {\n",
              "      display:flex;\n",
              "      gap: 12px;\n",
              "    }\n",
              "\n",
              "    .colab-df-convert {\n",
              "      background-color: #E8F0FE;\n",
              "      border: none;\n",
              "      border-radius: 50%;\n",
              "      cursor: pointer;\n",
              "      display: none;\n",
              "      fill: #1967D2;\n",
              "      height: 32px;\n",
              "      padding: 0 0 0 0;\n",
              "      width: 32px;\n",
              "    }\n",
              "\n",
              "    .colab-df-convert:hover {\n",
              "      background-color: #E2EBFA;\n",
              "      box-shadow: 0px 1px 2px rgba(60, 64, 67, 0.3), 0px 1px 3px 1px rgba(60, 64, 67, 0.15);\n",
              "      fill: #174EA6;\n",
              "    }\n",
              "\n",
              "    .colab-df-buttons div {\n",
              "      margin-bottom: 4px;\n",
              "    }\n",
              "\n",
              "    [theme=dark] .colab-df-convert {\n",
              "      background-color: #3B4455;\n",
              "      fill: #D2E3FC;\n",
              "    }\n",
              "\n",
              "    [theme=dark] .colab-df-convert:hover {\n",
              "      background-color: #434B5C;\n",
              "      box-shadow: 0px 1px 3px 1px rgba(0, 0, 0, 0.15);\n",
              "      filter: drop-shadow(0px 1px 2px rgba(0, 0, 0, 0.3));\n",
              "      fill: #FFFFFF;\n",
              "    }\n",
              "  </style>\n",
              "\n",
              "    <script>\n",
              "      const buttonEl =\n",
              "        document.querySelector('#df-277dedf1-00cf-4a66-80f6-67e6070db812 button.colab-df-convert');\n",
              "      buttonEl.style.display =\n",
              "        google.colab.kernel.accessAllowed ? 'block' : 'none';\n",
              "\n",
              "      async function convertToInteractive(key) {\n",
              "        const element = document.querySelector('#df-277dedf1-00cf-4a66-80f6-67e6070db812');\n",
              "        const dataTable =\n",
              "          await google.colab.kernel.invokeFunction('convertToInteractive',\n",
              "                                                    [key], {});\n",
              "        if (!dataTable) return;\n",
              "\n",
              "        const docLinkHtml = 'Like what you see? Visit the ' +\n",
              "          '<a target=\"_blank\" href=https://colab.research.google.com/notebooks/data_table.ipynb>data table notebook</a>'\n",
              "          + ' to learn more about interactive tables.';\n",
              "        element.innerHTML = '';\n",
              "        dataTable['output_type'] = 'display_data';\n",
              "        await google.colab.output.renderOutput(dataTable, element);\n",
              "        const docLink = document.createElement('div');\n",
              "        docLink.innerHTML = docLinkHtml;\n",
              "        element.appendChild(docLink);\n",
              "      }\n",
              "    </script>\n",
              "  </div>\n",
              "\n",
              "\n",
              "<div id=\"df-5f26a5c7-85cf-42ca-b456-f405f6466a66\">\n",
              "  <button class=\"colab-df-quickchart\" onclick=\"quickchart('df-5f26a5c7-85cf-42ca-b456-f405f6466a66')\"\n",
              "            title=\"Suggest charts\"\n",
              "            style=\"display:none;\">\n",
              "\n",
              "<svg xmlns=\"http://www.w3.org/2000/svg\" height=\"24px\"viewBox=\"0 0 24 24\"\n",
              "     width=\"24px\">\n",
              "    <g>\n",
              "        <path d=\"M19 3H5c-1.1 0-2 .9-2 2v14c0 1.1.9 2 2 2h14c1.1 0 2-.9 2-2V5c0-1.1-.9-2-2-2zM9 17H7v-7h2v7zm4 0h-2V7h2v10zm4 0h-2v-4h2v4z\"/>\n",
              "    </g>\n",
              "</svg>\n",
              "  </button>\n",
              "\n",
              "<style>\n",
              "  .colab-df-quickchart {\n",
              "      --bg-color: #E8F0FE;\n",
              "      --fill-color: #1967D2;\n",
              "      --hover-bg-color: #E2EBFA;\n",
              "      --hover-fill-color: #174EA6;\n",
              "      --disabled-fill-color: #AAA;\n",
              "      --disabled-bg-color: #DDD;\n",
              "  }\n",
              "\n",
              "  [theme=dark] .colab-df-quickchart {\n",
              "      --bg-color: #3B4455;\n",
              "      --fill-color: #D2E3FC;\n",
              "      --hover-bg-color: #434B5C;\n",
              "      --hover-fill-color: #FFFFFF;\n",
              "      --disabled-bg-color: #3B4455;\n",
              "      --disabled-fill-color: #666;\n",
              "  }\n",
              "\n",
              "  .colab-df-quickchart {\n",
              "    background-color: var(--bg-color);\n",
              "    border: none;\n",
              "    border-radius: 50%;\n",
              "    cursor: pointer;\n",
              "    display: none;\n",
              "    fill: var(--fill-color);\n",
              "    height: 32px;\n",
              "    padding: 0;\n",
              "    width: 32px;\n",
              "  }\n",
              "\n",
              "  .colab-df-quickchart:hover {\n",
              "    background-color: var(--hover-bg-color);\n",
              "    box-shadow: 0 1px 2px rgba(60, 64, 67, 0.3), 0 1px 3px 1px rgba(60, 64, 67, 0.15);\n",
              "    fill: var(--button-hover-fill-color);\n",
              "  }\n",
              "\n",
              "  .colab-df-quickchart-complete:disabled,\n",
              "  .colab-df-quickchart-complete:disabled:hover {\n",
              "    background-color: var(--disabled-bg-color);\n",
              "    fill: var(--disabled-fill-color);\n",
              "    box-shadow: none;\n",
              "  }\n",
              "\n",
              "  .colab-df-spinner {\n",
              "    border: 2px solid var(--fill-color);\n",
              "    border-color: transparent;\n",
              "    border-bottom-color: var(--fill-color);\n",
              "    animation:\n",
              "      spin 1s steps(1) infinite;\n",
              "  }\n",
              "\n",
              "  @keyframes spin {\n",
              "    0% {\n",
              "      border-color: transparent;\n",
              "      border-bottom-color: var(--fill-color);\n",
              "      border-left-color: var(--fill-color);\n",
              "    }\n",
              "    20% {\n",
              "      border-color: transparent;\n",
              "      border-left-color: var(--fill-color);\n",
              "      border-top-color: var(--fill-color);\n",
              "    }\n",
              "    30% {\n",
              "      border-color: transparent;\n",
              "      border-left-color: var(--fill-color);\n",
              "      border-top-color: var(--fill-color);\n",
              "      border-right-color: var(--fill-color);\n",
              "    }\n",
              "    40% {\n",
              "      border-color: transparent;\n",
              "      border-right-color: var(--fill-color);\n",
              "      border-top-color: var(--fill-color);\n",
              "    }\n",
              "    60% {\n",
              "      border-color: transparent;\n",
              "      border-right-color: var(--fill-color);\n",
              "    }\n",
              "    80% {\n",
              "      border-color: transparent;\n",
              "      border-right-color: var(--fill-color);\n",
              "      border-bottom-color: var(--fill-color);\n",
              "    }\n",
              "    90% {\n",
              "      border-color: transparent;\n",
              "      border-bottom-color: var(--fill-color);\n",
              "    }\n",
              "  }\n",
              "</style>\n",
              "\n",
              "  <script>\n",
              "    async function quickchart(key) {\n",
              "      const quickchartButtonEl =\n",
              "        document.querySelector('#' + key + ' button');\n",
              "      quickchartButtonEl.disabled = true;  // To prevent multiple clicks.\n",
              "      quickchartButtonEl.classList.add('colab-df-spinner');\n",
              "      try {\n",
              "        const charts = await google.colab.kernel.invokeFunction(\n",
              "            'suggestCharts', [key], {});\n",
              "      } catch (error) {\n",
              "        console.error('Error during call to suggestCharts:', error);\n",
              "      }\n",
              "      quickchartButtonEl.classList.remove('colab-df-spinner');\n",
              "      quickchartButtonEl.classList.add('colab-df-quickchart-complete');\n",
              "    }\n",
              "    (() => {\n",
              "      let quickchartButtonEl =\n",
              "        document.querySelector('#df-5f26a5c7-85cf-42ca-b456-f405f6466a66 button');\n",
              "      quickchartButtonEl.style.display =\n",
              "        google.colab.kernel.accessAllowed ? 'block' : 'none';\n",
              "    })();\n",
              "  </script>\n",
              "</div>\n",
              "\n",
              "    </div>\n",
              "  </div>\n"
            ],
            "application/vnd.google.colaboratory.intrinsic+json": {
              "type": "dataframe",
              "variable_name": "X_test",
              "summary": "{\n  \"name\": \"X_test\",\n  \"rows\": 300,\n  \"fields\": [\n    {\n      \"column\": \"watch_time\",\n      \"properties\": {\n        \"dtype\": \"number\",\n        \"std\": 1.2916656619360969,\n        \"min\": -3.1892441868275694,\n        \"max\": 3.7575043196906033,\n        \"num_unique_values\": 300,\n        \"samples\": [\n          -1.1958989416715045,\n          0.555777598464134,\n          0.8799903178158662\n        ],\n        \"semantic_type\": \"\",\n        \"description\": \"\"\n      }\n    },\n    {\n      \"column\": \"avg_view_duration\",\n      \"properties\": {\n        \"dtype\": \"number\",\n        \"std\": 2.7427946770408744,\n        \"min\": -6.097592763187105,\n        \"max\": 7.088803616248859,\n        \"num_unique_values\": 300,\n        \"samples\": [\n          -2.457080529360598,\n          1.5926713103401515,\n          1.8545894703011272\n        ],\n        \"semantic_type\": \"\",\n        \"description\": \"\"\n      }\n    },\n    {\n      \"column\": \"click_through_rate\",\n      \"properties\": {\n        \"dtype\": \"number\",\n        \"std\": 0.04588996715886482,\n        \"min\": 0.096,\n        \"max\": 0.243,\n        \"num_unique_values\": 6,\n        \"samples\": [\n          0.185,\n          0.19,\n          0.098\n        ],\n        \"semantic_type\": \"\",\n        \"description\": \"\"\n      }\n    },\n    {\n      \"column\": \"interest\",\n      \"properties\": {\n        \"dtype\": \"number\",\n        \"std\": 0,\n        \"min\": 0,\n        \"max\": 1,\n        \"num_unique_values\": 2,\n        \"samples\": [\n          1,\n          0\n        ],\n        \"semantic_type\": \"\",\n        \"description\": \"\"\n      }\n    }\n  ]\n}"
            }
          },
          "metadata": {},
          "execution_count": 78
        }
      ]
    },
    {
      "cell_type": "code",
      "source": [
        "import pandas as pd\n",
        "\n",
        "sample_to_predict = pd.Series({\"watch_time\": -8.1, \"avg_view_duration\": 1.4, \"click_through_rate\": -0.7, \"interest\": 0})\n",
        "sample_to_predict = pd.DataFrame([sample_to_predict])\n",
        "model.predict_proba(sample_to_predict.values)"
      ],
      "metadata": {
        "id": "Z7QMsj6BsYFK",
        "colab": {
          "base_uri": "https://localhost:8080/"
        },
        "outputId": "3209291c-1ab7-486b-ce94-a36ffc5436f0"
      },
      "execution_count": null,
      "outputs": [
        {
          "output_type": "execute_result",
          "data": {
            "text/plain": [
              "array([[0.44173527, 0.55826473]])"
            ]
          },
          "metadata": {},
          "execution_count": 79
        }
      ]
    },
    {
      "cell_type": "code",
      "execution_count": null,
      "metadata": {
        "id": "MfPZ7SmO46xZ"
      },
      "outputs": [],
      "source": [
        "import pickle\n",
        "\n",
        "with open('model.pkl', 'wb') as file:\n",
        "    pickle.dump(model, file)"
      ]
    },
    {
      "cell_type": "code",
      "source": [
        "import shutil\n",
        "\n",
        "# Source file path (within your Drive)\n",
        "source_file = 'model.pkl'\n",
        "\n",
        "# Destination path (root of your Drive)\n",
        "destination_path = '/content/drive/MyDrive/Colab Notebooks/model.pkl'\n",
        "\n",
        "# Copy the file\n",
        "shutil.copy(source_file, destination_path)"
      ],
      "metadata": {
        "id": "eom-mr80C5jt",
        "colab": {
          "base_uri": "https://localhost:8080/",
          "height": 36
        },
        "outputId": "82b16cee-8708-4ecc-d4da-ca52251cfc3f"
      },
      "execution_count": null,
      "outputs": [
        {
          "output_type": "execute_result",
          "data": {
            "text/plain": [
              "'/content/drive/MyDrive/Colab Notebooks/model.pkl'"
            ],
            "application/vnd.google.colaboratory.intrinsic+json": {
              "type": "string"
            }
          },
          "metadata": {},
          "execution_count": 81
        }
      ]
    }
  ]
}